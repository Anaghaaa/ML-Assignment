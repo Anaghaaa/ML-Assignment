{
 "cells": [
  {
   "cell_type": "code",
   "execution_count": 1,
   "metadata": {},
   "outputs": [],
   "source": [
    "#This code is written for data visualisation. Unshuffled iris datset is used here.\n",
    "# Libraries like numpy,pandas and matplot are used for plotting\n",
    "import numpy as np\n",
    "class slp:\n",
    "    def fitting(self,z,y):\n",
    "        self.w=np.zeros(1+z.shape[1])\n",
    "        self.e=[]\n",
    "        for i in range(1000):\n",
    "            error=0\n",
    "            for inp,tar in zip(z,y):\n",
    "                diff= (tar-self.pre(inp))\n",
    "                self.w[1:]+= diff * inp * 0.1\n",
    "                self.w[0]+=diff*0.1\n",
    "                error=error + int(diff*0.1!=0.0)\n",
    "            self.e.append(error)\n",
    "        return self\n",
    "    def fun(self,z):\n",
    "        return np.dot(z,self.w[1:])+self.w[0]\n",
    "    def pre(self,z):\n",
    "        return np.where(self.fun(z)>=0.0,1,-1)\n",
    "    \n"
   ]
  },
  {
   "cell_type": "code",
   "execution_count": 13,
   "metadata": {},
   "outputs": [
    {
     "name": "stderr",
     "output_type": "stream",
     "text": [
      "'c' argument looks like a single numeric RGB or RGBA sequence, which should be avoided as value-mapping will have precedence in case its length matches with 'x' & 'y'.  Please use a 2-D array with a single row if you really want to specify the same RGB or RGBA value for all points.\n",
      "'c' argument looks like a single numeric RGB or RGBA sequence, which should be avoided as value-mapping will have precedence in case its length matches with 'x' & 'y'.  Please use a 2-D array with a single row if you really want to specify the same RGB or RGBA value for all points.\n"
     ]
    },
    {
     "data": {
      "image/png": "[encoded data removed]",
      "text/plain": [
       "<Figure size 432x288 with 1 Axes>"
      ]
     },
     "metadata": {
      "needs_background": "light"
     },
     "output_type": "display_data"
    }
   ],
   "source": [
    "#This is the graph of sepal vs petal length\n",
    "import pandas as p\n",
    "from matplotlib.colors import ListedColormap\n",
    "import matplotlib.pyplot as pt\n",
    "data_df=p.read_csv('https://archive.ics.uci.edu/ml/machine-learning-databases/iris/iris.data', header=None)\n",
    "y=data_df.iloc[0:100,4].values\n",
    "y=np.where(y=='Iris-versicolor',-1,1)\n",
    "z=data_df.iloc[0:100,[0,2]].values\n",
    "pp=slp()\n",
    "pp.fitting(z,y)\n",
    "\n",
    "def plot_decision_regions(z,y,cl):\n",
    "    resolution=0.1\n",
    "    mar=('s','x','o','o','o')\n",
    "    col=('blue','green','green','black','cyan')\n",
    "    cmap=ListedColormap(col[:len(np.unique(y))])\n",
    "    \n",
    "    mini_1=z[:,0].min()-1\n",
    "    maxi_1=z[:,0].max()+1\n",
    "    mini_2=z[:,1].min()-1\n",
    "    maxi_2=z[:,1].max()+1\n",
    "    \n",
    "    x_axis,y_axis=np.meshgrid(np.arange(mini_1,maxi_1,resolution),np.arange(mini_2,maxi_2,resolution))\n",
    "    \n",
    "    clasi = cl.pre(np.array([x_axis.ravel(),y_axis.ravel()]).T)\n",
    "    clasi=clasi.reshape(x_axis.shape)\n",
    "    pt.contourf(x_axis,y_axis,clasi,alpha=0.4,cmap=cmap)\n",
    "    pt.xlim(x_axis.min(),x_axis.max())\n",
    "    pt.ylim(y_axis.min(),y_axis.max())\n",
    "    \n",
    "    for b,d in enumerate(np.unique(y)):\n",
    "        pt.scatter(x=z[y==d,0],y=z[y==d,1] ,alpha=0.8, c=cmap(b),marker=mar[b],label=d)\n",
    "plot_decision_regions(z,y,cl=pp)\n",
    "pt.ylabel('Petal length')\n",
    "pt.xlabel('Sepal length')\n",
    "pt.legend(loc='upper right')\n",
    "pt.show()"
   ]
  },
  {
   "cell_type": "code",
   "execution_count": null,
   "metadata": {},
   "outputs": [],
   "source": []
  }
 ],
 "metadata": {
  "kernelspec": {
   "display_name": "Python 3",
   "language": "python",
   "name": "python3"
  },
  "language_info": {
   "codemirror_mode": {
    "name": "ipython",
    "version": 3
   },
   "file_extension": ".py",
   "mimetype": "text/x-python",
   "name": "python",
   "nbconvert_exporter": "python",
   "pygments_lexer": "ipython3",
   "version": "3.7.5"
  }
 },
 "nbformat": 4,
 "nbformat_minor": 2
}
